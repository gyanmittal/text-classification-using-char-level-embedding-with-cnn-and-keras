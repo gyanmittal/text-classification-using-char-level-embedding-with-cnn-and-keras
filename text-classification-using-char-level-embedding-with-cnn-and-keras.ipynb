{
 "cells": [
  {
   "cell_type": "markdown",
   "metadata": {},
   "source": [
    "# Text Classification Example using CNN and Keras\n",
    "In this Example we will see how we can do the binary classification using CNN model with Keras framework.\n",
    "\n",
    "**It is based on following references of convolution networks:**\n",
    "\n",
    "* Convolutional Neural Networks for Sentence Classification (https://arxiv.org/pdf/1408.5882.pdf)\n",
    "* A Convolutional Neural Network for Modelling Sentences (https://arxiv.org/pdf/1404.2188.pdf)\n",
    "* Convolutional Neural Networks (http://web.stanford.edu/class/cs224n/readings/cs224n-2019-notes08-CNN.pdf)\n",
    "\n",
    "**We have used the SMS Spam Data set in our example, which is available at the following location**\n",
    "* SMS Spam Collection Data Set (https://archive.ics.uci.edu/ml/datasets/sms+spam+collection)\n",
    "\n",
    "In this example our model will learn to classify a SMS message in spam or ham. \n"
   ]
  },
  {
   "cell_type": "code",
   "execution_count": 1,
   "metadata": {},
   "outputs": [],
   "source": [
    "# Download the SMS Spam data file if doesn't exist already\n",
    "import os\n",
    "import requests # This library is used to make requests to internet\n",
    "import zipfile\n",
    "\n",
    "data_file = \"data/SMSSpamCollection\"\n",
    "\n",
    "# Download and unzip the data file in data directory in case it doesn't exists already\n",
    "if not os.path.exists(data_file):\n",
    "    data_file_dir = os.path.dirname(data_file)\n",
    "    if not os.path.exists(data_file_dir): os.makedirs(data_file_dir)\n",
    "\n",
    "    # Storing url of dataset\n",
    "    url = 'https://archive.ics.uci.edu/ml/machine-learning-databases/00228/smsspamcollection.zip'\n",
    "    r = requests.get(url, allow_redirects=True)\n",
    "    zip_file_download = data_file_dir + '/smsspamcollection.zip'\n",
    "\n",
    "    # Writing the content of above request to 'smsspamcollection.zip' file\n",
    "    open(zip_file_download, 'wb').write(r.content)\n",
    "    \n",
    "    # Extract the zip file\n",
    "    with zipfile.ZipFile(zip_file_download,\"r\") as zip_ref:\n",
    "        zip_ref.extractall(data_file_dir)\n"
   ]
  },
  {
   "cell_type": "code",
   "execution_count": 2,
   "metadata": {},
   "outputs": [
    {
     "name": "stdout",
     "output_type": "stream",
     "text": [
      "Loading data (labels and sentences) from the SMSSpamCollection file...\n",
      "[0 0 1 0 0]\n",
      "['Go until jurong point, crazy.. Available only in bugis n great world la e buffet... Cine there got amore wat...'\n",
      " 'Ok lar... Joking wif u oni...'\n",
      " \"Free entry in 2 a wkly comp to win FA Cup final tkts 21st May 2005. Text FA to 87121 to receive entry question(std txt rate)T&C's apply 08452810075over18's\"\n",
      " 'U dun say so early hor... U c already then say...'\n",
      " \"Nah I don't think he goes to usf, he lives around here though\"]\n"
     ]
    }
   ],
   "source": [
    "from util import load_data_and_labels_from_csv_file, build_vocab, pad_sentences, text_to_sequence, save_vocab_json, generate_char_level_features\n",
    "\n",
    "print(\"Loading data (labels and sentences) from the SMSSpamCollection file...\")\n",
    "labels, sentences = load_data_and_labels_from_csv_file(data_file)\n",
    "\n",
    "print(labels[:5])\n",
    "print(sentences[:5])"
   ]
  },
  {
   "cell_type": "code",
   "execution_count": 3,
   "metadata": {},
   "outputs": [
    {
     "data": {
      "text/plain": [
       "array([list(['g', 'o', ' ', 'u', 'n', 't', 'i', 'l', ' ', 'j', 'u', 'r', 'o', 'n', 'g', ' ', 'p', 'o', 'i', 'n', 't', ',', ' ', 'c', 'r', 'a', 'z', 'y', '.', '.', ' ', 'a', 'v', 'a', 'i', 'l', 'a', 'b', 'l', 'e', ' ', 'o', 'n', 'l', 'y', ' ', 'i', 'n', ' ', 'b', 'u', 'g', 'i', 's', ' ', 'n', ' ', 'g', 'r', 'e', 'a', 't', ' ', 'w', 'o', 'r', 'l', 'd', ' ', 'l', 'a', ' ', 'e', ' ', 'b', 'u', 'f', 'f', 'e', 't', '.', '.', '.', ' ', 'c', 'i', 'n', 'e', ' ', 't', 'h', 'e', 'r', 'e', ' ', 'g', 'o', 't', ' ', 'a', 'm', 'o', 'r', 'e', ' ', 'w', 'a', 't', '.', '.', '.']),\n",
       "       list(['o', 'k', ' ', 'l', 'a', 'r', '.', '.', '.', ' ', 'j', 'o', 'k', 'i', 'n', 'g', ' ', 'w', 'i', 'f', ' ', 'u', ' ', 'o', 'n', 'i', '.', '.', '.']),\n",
       "       list(['f', 'r', 'e', 'e', ' ', 'e', 'n', 't', 'r', 'y', ' ', 'i', 'n', ' ', '2', ' ', 'a', ' ', 'w', 'k', 'l', 'y', ' ', 'c', 'o', 'm', 'p', ' ', 't', 'o', ' ', 'w', 'i', 'n', ' ', 'f', 'a', ' ', 'c', 'u', 'p', ' ', 'f', 'i', 'n', 'a', 'l', ' ', 't', 'k', 't', 's', ' ', '2', '1', 's', 't', ' ', 'm', 'a', 'y', ' ', '2', '0', '0', '5', '.', ' ', 't', 'e', 'x', 't', ' ', 'f', 'a', ' ', 't', 'o', ' ', '8', '7', '1', '2', '1', ' ', 't', 'o', ' ', 'r', 'e', 'c', 'e', 'i', 'v', 'e', ' ', 'e', 'n', 't', 'r', 'y', ' ', 'q', 'u', 'e', 's', 't', 'i', 'o', 'n', '(', 's', 't', 'd', ' ', 't', 'x', 't', ' ', 'r', 'a', 't', 'e', ')', 't', '&', 'c', \"'\", 's', ' ', 'a', 'p', 'p', 'l', 'y', ' ', '0', '8', '4', '5', '2', '8', '1', '0', '0', '7', '5', 'o', 'v', 'e', 'r', '1', '8', \"'\", 's']),\n",
       "       list(['u', ' ', 'd', 'u', 'n', ' ', 's', 'a', 'y', ' ', 's', 'o', ' ', 'e', 'a', 'r', 'l', 'y', ' ', 'h', 'o', 'r', '.', '.', '.', ' ', 'u', ' ', 'c', ' ', 'a', 'l', 'r', 'e', 'a', 'd', 'y', ' ', 't', 'h', 'e', 'n', ' ', 's', 'a', 'y', '.', '.', '.']),\n",
       "       list(['n', 'a', 'h', ' ', 'i', ' ', 'd', 'o', 'n', \"'\", 't', ' ', 't', 'h', 'i', 'n', 'k', ' ', 'h', 'e', ' ', 'g', 'o', 'e', 's', ' ', 't', 'o', ' ', 'u', 's', 'f', ',', ' ', 'h', 'e', ' ', 'l', 'i', 'v', 'e', 's', ' ', 'a', 'r', 'o', 'u', 'n', 'd', ' ', 'h', 'e', 'r', 'e', ' ', 't', 'h', 'o', 'u', 'g', 'h'])],\n",
       "      dtype=object)"
      ]
     },
     "execution_count": 3,
     "metadata": {},
     "output_type": "execute_result"
    }
   ],
   "source": [
    "import numpy as np\n",
    "\n",
    "# Param defining max features consider in a sentence\n",
    "params = {'max_chars_features': 500} \n",
    "\n",
    "# Generate Char features for every message\n",
    "lines_chars_level_features = generate_char_level_features(sentences, params['max_chars_features'])\n",
    "# Redefine the max_chars_features in case existing data contains the \n",
    "# max chars featues less then define one for all the messages\n",
    "params['max_chars_features'] = max([len(lines) for lines in lines_chars_level_features])\n",
    "\n",
    "# Convert to numpy array\n",
    "lines_chars_level_features = np.array(lines_chars_level_features)\n",
    "lines_chars_level_features[:5]"
   ]
  },
  {
   "cell_type": "code",
   "execution_count": 4,
   "metadata": {},
   "outputs": [
    {
     "name": "stdout",
     "output_type": "stream",
     "text": [
      "Build the char vocabulary, assigning a unique index value to every char\n",
      "0 <UNK/> [0, inf]\n",
      "1 <PAD/> [1, inf]\n",
      "2   [2, 81576]\n",
      "3 e [3, 35072]\n",
      "4 o [4, 29104]\n",
      "5 t [5, 28037]\n",
      "6 a [6, 25296]\n",
      "7 i [7, 22514]\n",
      "8 n [8, 21842]\n",
      "9 s [9, 18957]\n"
     ]
    }
   ],
   "source": [
    "# Build char vocabulary, assigning a unique index value to every char\n",
    "# Special tokens <UNK/> for unknown chars, <PAD/> for padding a sentence\n",
    "\n",
    "print(\"Build the char vocabulary, assigning a unique index value to every char\")\n",
    "vocabulary = build_vocab(lines_chars_level_features, max_vocab_size=10000)\n",
    "\n",
    "import itertools \n",
    "# Print 10 Vocabulary items\n",
    "for i, val in enumerate(itertools.islice(vocabulary, 10)):\n",
    "    print(i, val, vocabulary[val])"
   ]
  },
  {
   "cell_type": "code",
   "execution_count": 5,
   "metadata": {},
   "outputs": [
    {
     "name": "stdout",
     "output_type": "stream",
     "text": [
      "Padding sentences...\n",
      "The sequence length is:  500\n"
     ]
    },
    {
     "data": {
      "text/plain": [
       "['g',\n",
       " 'o',\n",
       " ' ',\n",
       " 'u',\n",
       " 'n',\n",
       " 't',\n",
       " 'i',\n",
       " 'l',\n",
       " ' ',\n",
       " 'j',\n",
       " 'u',\n",
       " 'r',\n",
       " 'o',\n",
       " 'n',\n",
       " 'g',\n",
       " ' ',\n",
       " 'p',\n",
       " 'o',\n",
       " 'i',\n",
       " 'n',\n",
       " 't',\n",
       " ',',\n",
       " ' ',\n",
       " 'c',\n",
       " 'r',\n",
       " 'a',\n",
       " 'z',\n",
       " 'y',\n",
       " '.',\n",
       " '.']"
      ]
     },
     "execution_count": 5,
     "metadata": {},
     "output_type": "execute_result"
    }
   ],
   "source": [
    "# Pad sentence\n",
    "print(\"Padding sentences...\")\n",
    "x_text = pad_sentences(lines_chars_level_features, max_sequence_length=params['max_chars_features'])\n",
    "\n",
    "# Get max sequence length, should be equal to max_char_features\n",
    "seq_len = len(x_text[0]) \n",
    "print(\"The sequence length is: \", seq_len)\n",
    "x_text[0][:30]"
   ]
  },
  {
   "cell_type": "code",
   "execution_count": 6,
   "metadata": {},
   "outputs": [
    {
     "data": {
      "text/plain": [
       "array([20,  4,  2, 13,  8,  5,  7, 11,  2, 37, 13, 10,  4,  8, 20,  2, 21,\n",
       "        4,  7,  8,  5, 27,  2, 18, 10,  6, 46, 17, 15, 15,  2,  6, 25,  6,\n",
       "        7, 11,  6, 23, 11,  3,  2,  4,  8, 11, 17,  2,  7,  8,  2, 23, 13,\n",
       "       20,  7,  9,  2,  8,  2, 20, 10,  3,  6,  5,  2, 19,  4, 10, 11, 14,\n",
       "        2, 11,  6,  2,  3,  2, 23, 13, 22, 22,  3,  5, 15, 15, 15,  2, 18,\n",
       "        7,  8,  3,  2,  5, 12,  3, 10,  3,  2, 20,  4,  5,  2,  6, 16,  4,\n",
       "       10,  3,  2, 19,  6,  5, 15, 15, 15,  1,  1,  1,  1,  1,  1,  1,  1,\n",
       "        1,  1,  1,  1,  1,  1,  1,  1,  1,  1,  1,  1,  1,  1,  1,  1,  1,\n",
       "        1,  1,  1,  1,  1,  1,  1,  1,  1,  1,  1,  1,  1,  1,  1,  1,  1,\n",
       "        1,  1,  1,  1,  1,  1,  1,  1,  1,  1,  1,  1,  1,  1,  1,  1,  1,\n",
       "        1,  1,  1,  1,  1,  1,  1,  1,  1,  1,  1,  1,  1,  1,  1,  1,  1,\n",
       "        1,  1,  1,  1,  1,  1,  1,  1,  1,  1,  1,  1,  1,  1,  1,  1,  1,\n",
       "        1,  1,  1,  1,  1,  1,  1,  1,  1,  1,  1,  1,  1,  1,  1,  1,  1,\n",
       "        1,  1,  1,  1,  1,  1,  1,  1,  1,  1,  1,  1,  1,  1,  1,  1,  1,\n",
       "        1,  1,  1,  1,  1,  1,  1,  1,  1,  1,  1,  1,  1,  1,  1,  1,  1,\n",
       "        1,  1,  1,  1,  1,  1,  1,  1,  1,  1,  1,  1,  1,  1,  1,  1,  1,\n",
       "        1,  1,  1,  1,  1,  1,  1,  1,  1,  1,  1,  1,  1,  1,  1,  1,  1,\n",
       "        1,  1,  1,  1,  1,  1,  1,  1,  1,  1,  1,  1,  1,  1,  1,  1,  1,\n",
       "        1,  1,  1,  1,  1,  1,  1,  1,  1,  1,  1,  1,  1,  1,  1,  1,  1,\n",
       "        1,  1,  1,  1,  1,  1,  1,  1,  1,  1,  1,  1,  1,  1,  1,  1,  1,\n",
       "        1,  1,  1,  1,  1,  1,  1,  1,  1,  1,  1,  1,  1,  1,  1,  1,  1,\n",
       "        1,  1,  1,  1,  1,  1,  1,  1,  1,  1,  1,  1,  1,  1,  1,  1,  1,\n",
       "        1,  1,  1,  1,  1,  1,  1,  1,  1,  1,  1,  1,  1,  1,  1,  1,  1,\n",
       "        1,  1,  1,  1,  1,  1,  1,  1,  1,  1,  1,  1,  1,  1,  1,  1,  1,\n",
       "        1,  1,  1,  1,  1,  1,  1,  1,  1,  1,  1,  1,  1,  1,  1,  1,  1,\n",
       "        1,  1,  1,  1,  1,  1,  1,  1,  1,  1,  1,  1,  1,  1,  1,  1,  1,\n",
       "        1,  1,  1,  1,  1,  1,  1,  1,  1,  1,  1,  1,  1,  1,  1,  1,  1,\n",
       "        1,  1,  1,  1,  1,  1,  1,  1,  1,  1,  1,  1,  1,  1,  1,  1,  1,\n",
       "        1,  1,  1,  1,  1,  1,  1,  1,  1,  1,  1,  1,  1,  1,  1,  1,  1,\n",
       "        1,  1,  1,  1,  1,  1,  1])"
      ]
     },
     "execution_count": 6,
     "metadata": {},
     "output_type": "execute_result"
    }
   ],
   "source": [
    "# Represent sentence with char index, using char index to represent a sentence\n",
    "x = text_to_sequence(x_text, vocabulary)\n",
    "x[0]"
   ]
  },
  {
   "cell_type": "code",
   "execution_count": 7,
   "metadata": {},
   "outputs": [
    {
     "name": "stdout",
     "output_type": "stream",
     "text": [
      "[[ 7  2  6 ...  1  1  1]\n",
      " [19  3  8 ...  1  1  1]\n",
      " [12  4 19 ...  1  1  1]]\n",
      "[0 0 0]\n"
     ]
    }
   ],
   "source": [
    "# Shuffle data\n",
    "#np.random.seed(1) #same shuffling each time\n",
    "shuffle_indices = np.random.permutation(np.arange(len(labels)))\n",
    "x = x[shuffle_indices]\n",
    "labels = labels[shuffle_indices]\n",
    "print(x[:3])\n",
    "print(labels[:3])"
   ]
  },
  {
   "cell_type": "code",
   "execution_count": 8,
   "metadata": {},
   "outputs": [
    {
     "name": "stdout",
     "output_type": "stream",
     "text": [
      "Creating Model...\n",
      "Model: \"functional_1\"\n",
      "__________________________________________________________________________________________________\n",
      "Layer (type)                    Output Shape         Param #     Connected to                     \n",
      "==================================================================================================\n",
      "input_1 (InputLayer)            [(None, 500)]        0                                            \n",
      "__________________________________________________________________________________________________\n",
      "embedding (Embedding)           (None, 500, 300)     27000       input_1[0][0]                    \n",
      "__________________________________________________________________________________________________\n",
      "reshape (Reshape)               (None, 500, 300, 1)  0           embedding[0][0]                  \n",
      "__________________________________________________________________________________________________\n",
      "conv2d (Conv2D)                 (None, 498, 1, 512)  461312      reshape[0][0]                    \n",
      "__________________________________________________________________________________________________\n",
      "conv2d_1 (Conv2D)               (None, 497, 1, 512)  614912      reshape[0][0]                    \n",
      "__________________________________________________________________________________________________\n",
      "conv2d_2 (Conv2D)               (None, 496, 1, 512)  768512      reshape[0][0]                    \n",
      "__________________________________________________________________________________________________\n",
      "conv2d_3 (Conv2D)               (None, 495, 1, 512)  922112      reshape[0][0]                    \n",
      "__________________________________________________________________________________________________\n",
      "conv2d_4 (Conv2D)               (None, 494, 1, 512)  1075712     reshape[0][0]                    \n",
      "__________________________________________________________________________________________________\n",
      "max_pooling2d (MaxPooling2D)    (None, 1, 1, 512)    0           conv2d[0][0]                     \n",
      "__________________________________________________________________________________________________\n",
      "max_pooling2d_1 (MaxPooling2D)  (None, 1, 1, 512)    0           conv2d_1[0][0]                   \n",
      "__________________________________________________________________________________________________\n",
      "max_pooling2d_2 (MaxPooling2D)  (None, 1, 1, 512)    0           conv2d_2[0][0]                   \n",
      "__________________________________________________________________________________________________\n",
      "max_pooling2d_3 (MaxPooling2D)  (None, 1, 1, 512)    0           conv2d_3[0][0]                   \n",
      "__________________________________________________________________________________________________\n",
      "max_pooling2d_4 (MaxPooling2D)  (None, 1, 1, 512)    0           conv2d_4[0][0]                   \n",
      "__________________________________________________________________________________________________\n",
      "concatenate (Concatenate)       (None, 5, 1, 512)    0           max_pooling2d[0][0]              \n",
      "                                                                 max_pooling2d_1[0][0]            \n",
      "                                                                 max_pooling2d_2[0][0]            \n",
      "                                                                 max_pooling2d_3[0][0]            \n",
      "                                                                 max_pooling2d_4[0][0]            \n",
      "__________________________________________________________________________________________________\n",
      "flatten (Flatten)               (None, 2560)         0           concatenate[0][0]                \n",
      "__________________________________________________________________________________________________\n",
      "dropout (Dropout)               (None, 2560)         0           flatten[0][0]                    \n",
      "__________________________________________________________________________________________________\n",
      "dense (Dense)                   (None, 1)            2561        dropout[0][0]                    \n",
      "==================================================================================================\n",
      "Total params: 3,872,121\n",
      "Trainable params: 3,872,121\n",
      "Non-trainable params: 0\n",
      "__________________________________________________________________________________________________\n"
     ]
    }
   ],
   "source": [
    "import keras\n",
    "from keras.layers import Embedding, Reshape, Conv2D, MaxPool2D, Concatenate, Flatten, Dropout, Dense\n",
    "from keras.models import Input, Model\n",
    "from keras.callbacks import ModelCheckpoint\n",
    "from keras.optimizers import Adam\n",
    "\n",
    "\"\"\"\n",
    "## Build CNN model\n",
    "\"\"\"\n",
    "vocab_size_or_total_features = len(vocabulary) \n",
    "\n",
    "embed_dim = 300\n",
    "filter_sizes = [3,4,5,6,7]\n",
    "num_filters = 512\n",
    "drop_out = 0.5\n",
    "\n",
    "# this returns a tensor\n",
    "print(\"Creating Model...\")\n",
    "inputs = Input(shape=(seq_len,), dtype='int32')\n",
    "embedding = Embedding(input_dim=vocab_size_or_total_features, output_dim=embed_dim, input_length=seq_len)(inputs)\n",
    "reshape = Reshape((seq_len,embed_dim,1))(embedding)\n",
    "\n",
    "# Defining Conv and Maxpool Layer for each filter_size\n",
    "maxpool_for_each_filter = []\n",
    "for filter_size in filter_sizes:\n",
    "    conv = Conv2D(num_filters, kernel_size=(filter_size, embed_dim), padding='valid', kernel_initializer='normal', activation='relu')(reshape)\n",
    "    maxpool = MaxPool2D(pool_size=(seq_len - filter_size + 1, 1), strides=(1,1), padding='valid')(conv)\n",
    "    maxpool_for_each_filter.append(maxpool)\n",
    "\n",
    "# Concat all max pool layers\n",
    "concatenate_maxpool = Concatenate(axis=1)(maxpool_for_each_filter)\n",
    "flatten = Flatten()(concatenate_maxpool)\n",
    "dropout = Dropout(drop_out)(flatten)\n",
    "output = Dense(units=1, activation='sigmoid')(dropout)\n",
    "\n",
    "model = Model(inputs=inputs, outputs=output) # Create model\n",
    "\n",
    "model.summary()\n"
   ]
  },
  {
   "cell_type": "code",
   "execution_count": 9,
   "metadata": {},
   "outputs": [
    {
     "name": "stdout",
     "output_type": "stream",
     "text": [
      "Traning Model...\n",
      "Epoch 1/20\n",
      "  1/140 [..............................] - ETA: 0s - loss: 0.6786 - accuracy: 0.5312WARNING:tensorflow:From /usr/local/lib/python3.8/site-packages/tensorflow/python/ops/summary_ops_v2.py:1277: stop (from tensorflow.python.eager.profiler) is deprecated and will be removed after 2020-07-01.\n",
      "Instructions for updating:\n",
      "use `tf.profiler.experimental.stop` instead.\n",
      "140/140 [==============================] - ETA: 0s - loss: 0.3050 - accuracy: 0.8852\n",
      "Epoch 00001: val_accuracy improved from -inf to 0.95785, saving model to model/cp.ckpt\n",
      "WARNING:tensorflow:From /usr/local/lib/python3.8/site-packages/tensorflow/python/training/tracking/tracking.py:111: Model.state_updates (from tensorflow.python.keras.engine.training) is deprecated and will be removed in a future version.\n",
      "Instructions for updating:\n",
      "This property should not be used in TensorFlow 2.0, as updates are applied automatically.\n",
      "WARNING:tensorflow:From /usr/local/lib/python3.8/site-packages/tensorflow/python/training/tracking/tracking.py:111: Layer.updates (from tensorflow.python.keras.engine.base_layer) is deprecated and will be removed in a future version.\n",
      "Instructions for updating:\n",
      "This property should not be used in TensorFlow 2.0, as updates are applied automatically.\n",
      "INFO:tensorflow:Assets written to: model/cp.ckpt/assets\n",
      "140/140 [==============================] - 742s 5s/step - loss: 0.3050 - accuracy: 0.8852 - val_loss: 0.1593 - val_accuracy: 0.9578\n",
      "Epoch 2/20\n",
      "140/140 [==============================] - ETA: 0s - loss: 0.1019 - accuracy: 0.9724\n",
      "Epoch 00002: val_accuracy improved from 0.95785 to 0.97578, saving model to model/cp.ckpt\n",
      "INFO:tensorflow:Assets written to: model/cp.ckpt/assets\n",
      "140/140 [==============================] - 590s 4s/step - loss: 0.1019 - accuracy: 0.9724 - val_loss: 0.0859 - val_accuracy: 0.9758\n",
      "Epoch 3/20\n",
      "140/140 [==============================] - ETA: 0s - loss: 0.0729 - accuracy: 0.9785\n",
      "Epoch 00003: val_accuracy improved from 0.97578 to 0.97758, saving model to model/cp.ckpt\n",
      "INFO:tensorflow:Assets written to: model/cp.ckpt/assets\n",
      "140/140 [==============================] - 445s 3s/step - loss: 0.0729 - accuracy: 0.9785 - val_loss: 0.0769 - val_accuracy: 0.9776\n",
      "Epoch 4/20\n",
      "140/140 [==============================] - ETA: 0s - loss: 0.0638 - accuracy: 0.9800\n",
      "Epoch 00004: val_accuracy improved from 0.97758 to 0.97937, saving model to model/cp.ckpt\n",
      "INFO:tensorflow:Assets written to: model/cp.ckpt/assets\n",
      "140/140 [==============================] - 324s 2s/step - loss: 0.0638 - accuracy: 0.9800 - val_loss: 0.0723 - val_accuracy: 0.9794\n",
      "Epoch 5/20\n",
      "140/140 [==============================] - ETA: 0s - loss: 0.0581 - accuracy: 0.9827\n",
      "Epoch 00005: val_accuracy improved from 0.97937 to 0.98027, saving model to model/cp.ckpt\n",
      "INFO:tensorflow:Assets written to: model/cp.ckpt/assets\n",
      "140/140 [==============================] - 370s 3s/step - loss: 0.0581 - accuracy: 0.9827 - val_loss: 0.0691 - val_accuracy: 0.9803\n",
      "Epoch 6/20\n",
      "140/140 [==============================] - ETA: 0s - loss: 0.0517 - accuracy: 0.9843\n",
      "Epoch 00006: val_accuracy improved from 0.98027 to 0.98117, saving model to model/cp.ckpt\n",
      "INFO:tensorflow:Assets written to: model/cp.ckpt/assets\n",
      "140/140 [==============================] - 356s 3s/step - loss: 0.0517 - accuracy: 0.9843 - val_loss: 0.0636 - val_accuracy: 0.9812\n",
      "Epoch 7/20\n",
      "140/140 [==============================] - ETA: 0s - loss: 0.0466 - accuracy: 0.9854\n",
      "Epoch 00007: val_accuracy improved from 0.98117 to 0.98206, saving model to model/cp.ckpt\n",
      "INFO:tensorflow:Assets written to: model/cp.ckpt/assets\n",
      "140/140 [==============================] - 271s 2s/step - loss: 0.0466 - accuracy: 0.9854 - val_loss: 0.0607 - val_accuracy: 0.9821\n",
      "Epoch 8/20\n",
      "140/140 [==============================] - ETA: 0s - loss: 0.0409 - accuracy: 0.9863\n",
      "Epoch 00008: val_accuracy did not improve from 0.98206\n",
      "140/140 [==============================] - 253s 2s/step - loss: 0.0409 - accuracy: 0.9863 - val_loss: 0.0590 - val_accuracy: 0.9821\n",
      "Epoch 9/20\n",
      "140/140 [==============================] - ETA: 0s - loss: 0.0376 - accuracy: 0.9888\n",
      "Epoch 00009: val_accuracy improved from 0.98206 to 0.98296, saving model to model/cp.ckpt\n",
      "INFO:tensorflow:Assets written to: model/cp.ckpt/assets\n",
      "140/140 [==============================] - 256s 2s/step - loss: 0.0376 - accuracy: 0.9888 - val_loss: 0.0557 - val_accuracy: 0.9830\n",
      "Epoch 10/20\n",
      "140/140 [==============================] - ETA: 0s - loss: 0.0334 - accuracy: 0.9888\n",
      "Epoch 00010: val_accuracy did not improve from 0.98296\n",
      "140/140 [==============================] - 293s 2s/step - loss: 0.0334 - accuracy: 0.9888 - val_loss: 0.0551 - val_accuracy: 0.9821\n",
      "Epoch 11/20\n",
      "140/140 [==============================] - ETA: 0s - loss: 0.0300 - accuracy: 0.9904\n",
      "Epoch 00011: val_accuracy improved from 0.98296 to 0.98386, saving model to model/cp.ckpt\n",
      "INFO:tensorflow:Assets written to: model/cp.ckpt/assets\n",
      "140/140 [==============================] - 325s 2s/step - loss: 0.0300 - accuracy: 0.9904 - val_loss: 0.0494 - val_accuracy: 0.9839\n",
      "Epoch 12/20\n",
      "140/140 [==============================] - ETA: 0s - loss: 0.0272 - accuracy: 0.9919\n",
      "Epoch 00012: val_accuracy did not improve from 0.98386\n",
      "140/140 [==============================] - 296s 2s/step - loss: 0.0272 - accuracy: 0.9919 - val_loss: 0.0496 - val_accuracy: 0.9830\n",
      "Epoch 13/20\n",
      "140/140 [==============================] - ETA: 0s - loss: 0.0238 - accuracy: 0.9928\n",
      "Epoch 00013: val_accuracy improved from 0.98386 to 0.98655, saving model to model/cp.ckpt\n",
      "INFO:tensorflow:Assets written to: model/cp.ckpt/assets\n",
      "140/140 [==============================] - 299s 2s/step - loss: 0.0238 - accuracy: 0.9928 - val_loss: 0.0449 - val_accuracy: 0.9865\n",
      "Epoch 14/20\n",
      "140/140 [==============================] - ETA: 0s - loss: 0.0199 - accuracy: 0.9946\n",
      "Epoch 00014: val_accuracy did not improve from 0.98655\n",
      "140/140 [==============================] - 334s 2s/step - loss: 0.0199 - accuracy: 0.9946 - val_loss: 0.0452 - val_accuracy: 0.9848\n",
      "Epoch 15/20\n",
      "140/140 [==============================] - ETA: 0s - loss: 0.0188 - accuracy: 0.9939\n",
      "Epoch 00015: val_accuracy improved from 0.98655 to 0.98744, saving model to model/cp.ckpt\n",
      "INFO:tensorflow:Assets written to: model/cp.ckpt/assets\n",
      "140/140 [==============================] - 270s 2s/step - loss: 0.0188 - accuracy: 0.9939 - val_loss: 0.0419 - val_accuracy: 0.9874\n",
      "Epoch 16/20\n",
      "140/140 [==============================] - ETA: 0s - loss: 0.0161 - accuracy: 0.9946\n",
      "Epoch 00016: val_accuracy did not improve from 0.98744\n",
      "140/140 [==============================] - 352s 3s/step - loss: 0.0161 - accuracy: 0.9946 - val_loss: 0.0423 - val_accuracy: 0.9865\n",
      "Epoch 17/20\n",
      "140/140 [==============================] - ETA: 0s - loss: 0.0133 - accuracy: 0.9957\n",
      "Epoch 00017: val_accuracy did not improve from 0.98744\n",
      "140/140 [==============================] - 375s 3s/step - loss: 0.0133 - accuracy: 0.9957 - val_loss: 0.0411 - val_accuracy: 0.9865\n",
      "Epoch 18/20\n",
      "140/140 [==============================] - ETA: 0s - loss: 0.0121 - accuracy: 0.9973\n",
      "Epoch 00018: val_accuracy did not improve from 0.98744\n",
      "140/140 [==============================] - 266s 2s/step - loss: 0.0121 - accuracy: 0.9973 - val_loss: 0.0409 - val_accuracy: 0.9865\n",
      "Epoch 19/20\n",
      "140/140 [==============================] - ETA: 0s - loss: 0.0107 - accuracy: 0.9969\n",
      "Epoch 00019: val_accuracy did not improve from 0.98744\n",
      "140/140 [==============================] - 277s 2s/step - loss: 0.0107 - accuracy: 0.9969 - val_loss: 0.0400 - val_accuracy: 0.9865\n",
      "Epoch 20/20\n",
      "140/140 [==============================] - ETA: 0s - loss: 0.0094 - accuracy: 0.9982\n",
      "Epoch 00020: val_accuracy did not improve from 0.98744\n",
      "140/140 [==============================] - 287s 2s/step - loss: 0.0094 - accuracy: 0.9982 - val_loss: 0.0393 - val_accuracy: 0.9865\n"
     ]
    }
   ],
   "source": [
    "from keras.callbacks import ModelCheckpoint \n",
    "from keras.optimizers import Adam\n",
    "\n",
    "checkpoint_path = \"model/cp.ckpt\"\n",
    "checkpoint_dir = os.path.dirname(checkpoint_path)\n",
    "\n",
    "if not os.path.exists(checkpoint_dir): os.makedirs(checkpoint_dir)\n",
    "# Save Vocabulary\n",
    "vocab_file = checkpoint_dir + \"/vocab.json\"\n",
    "save_vocab_json(vocab_file, vocabulary, params)\n",
    "\n",
    "#checkpoint = ModelCheckpoint(filepath=checkpoint_path,  monitor='accuracy', verbose=1, save_best_only=True, mode='auto') # Create callback to save the weights\n",
    "checkpoint = ModelCheckpoint(filepath=checkpoint_path,  monitor='val_accuracy', verbose=1, save_best_only=True, mode='auto') # Create callback to save the weights\n",
    "tensorboard_callback = keras.callbacks.TensorBoard(log_dir=checkpoint_dir, histogram_freq=0)\n",
    "adam = Adam(lr=1e-4, beta_1=0.9, beta_2=0.999, epsilon=1e-08, decay=0.0)\n",
    "model.compile(optimizer=adam, loss='binary_crossentropy', metrics=['accuracy'])\n",
    "\n",
    "epochs = 20\n",
    "batch_size = 32\n",
    "verbose = 1\n",
    "validation_split = 0.2\n",
    "print(\"Traning Model...\")\n",
    "history = model.fit(x, labels, batch_size=batch_size, epochs=epochs, verbose=verbose, validation_split=validation_split, callbacks=[checkpoint, tensorboard_callback])\n"
   ]
  },
  {
   "cell_type": "code",
   "execution_count": 10,
   "metadata": {},
   "outputs": [
    {
     "name": "stdout",
     "output_type": "stream",
     "text": [
      "dict_keys(['loss', 'accuracy', 'val_loss', 'val_accuracy'])\n"
     ]
    },
    {
     "data": {
      "image/png": "[encoded data removed]",
      "text/plain": [
       "<Figure size 432x288 with 1 Axes>"
      ]
     },
     "metadata": {
      "needs_background": "light"
     },
     "output_type": "display_data"
    },
    {
     "data": {
      "image/png": "[encoded data removed]",
      "text/plain": [
       "<Figure size 432x288 with 1 Axes>"
      ]
     },
     "metadata": {
      "needs_background": "light"
     },
     "output_type": "display_data"
    }
   ],
   "source": [
    "# Plot the accuracy, Val_accuracy and loss\n",
    "import matplotlib.pyplot as plt\n",
    "\n",
    "# list all data in history\n",
    "print(history.history.keys())\n",
    "# summarize history for accuracy\n",
    "plt.plot(history.history['accuracy'])\n",
    "plt.plot(history.history['val_accuracy'])\n",
    "plt.title('model accuracy')\n",
    "plt.ylabel('accuracy')\n",
    "plt.xlabel('epoch')\n",
    "plt.legend(['train', 'test'], loc='upper left')\n",
    "plt.show()\n",
    "# summarize history for loss\n",
    "plt.plot(history.history['loss'])\n",
    "plt.plot(history.history['val_loss'])\n",
    "plt.title('model loss')\n",
    "plt.ylabel('loss')\n",
    "plt.xlabel('epoch')\n",
    "plt.legend(['train', 'test'], loc='upper left')\n",
    "plt.show()"
   ]
  },
  {
   "cell_type": "code",
   "execution_count": 11,
   "metadata": {},
   "outputs": [
    {
     "name": "stdout",
     "output_type": "stream",
     "text": [
      "Generate predictions\n",
      "Text is: \t Free entry in 2 a wkly comp to win FA Cup final tkts 21st May 2005. Text FA to 87121 to receive entry question(std txt rate)T&C's apply 08452810075over18's\n",
      "predicted spam with spam prob  [0.99990714]\n",
      "Text is: \t I'm gonna be home soon and i don't want to talk about this stuff anymore tonight, k? I've cried enough today.\n",
      "predicted ham with spam prob  [0.00046477]\n"
     ]
    }
   ],
   "source": [
    "# Prediction of given text\n",
    "\n",
    "x_text = [\"Free entry in 2 a wkly comp to win FA Cup final tkts 21st May 2005. Text FA to 87121 to receive entry question(std txt rate)T&C's apply 08452810075over18's\", \n",
    "\"I'm gonna be home soon and i don't want to talk about this stuff anymore tonight, k? I've cried enough today.\"]\n",
    "\n",
    "#labels, sentences = get_data_and_labels(lines)\n",
    "\n",
    "lines_chars_level_features = generate_char_level_features(x_text, params['max_chars_features'])\n",
    "lines_chars_level_features = np.array(lines_chars_level_features)\n",
    "\n",
    "seq_len = params['max_chars_features'] \n",
    "\n",
    "x = pad_sentences(lines_chars_level_features, max_sequence_length=seq_len, is_max_sequence_length_modifiable=False)\n",
    "x = text_to_sequence(x, vocabulary)\n",
    "\n",
    "\n",
    "print(\"Generate predictions\")\n",
    "predictions = model.predict(x)\n",
    "count = 0 \n",
    "for text in x_text:\n",
    "    print(\"Text is: \\t\", text)\n",
    "    if (predictions[count] > 0.5):\n",
    "        print(\"predicted spam with spam prob \", predictions[count])\n",
    "    else:\n",
    "        print(\"predicted ham with spam prob \", predictions[count])\n",
    "    count += 1 \n",
    "\n"
   ]
  }
 ],
 "metadata": {
  "kernelspec": {
   "display_name": "Python 3",
   "language": "python",
   "name": "python3"
  },
  "language_info": {
   "codemirror_mode": {
    "name": "ipython",
    "version": 3
   },
   "file_extension": ".py",
   "mimetype": "text/x-python",
   "name": "python",
   "nbconvert_exporter": "python",
   "pygments_lexer": "ipython3",
   "version": "3.8.6"
  }
 },
 "nbformat": 4,
 "nbformat_minor": 4
}
